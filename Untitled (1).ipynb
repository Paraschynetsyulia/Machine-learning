{
  "metadata": {
    "language_info": {
      "codemirror_mode": {
        "name": "python",
        "version": 3
      },
      "file_extension": ".py",
      "mimetype": "text/x-python",
      "name": "python",
      "nbconvert_exporter": "python",
      "pygments_lexer": "ipython3",
      "version": "3.8"
    },
    "kernelspec": {
      "name": "python",
      "display_name": "Pyolite",
      "language": "python"
    }
  },
  "nbformat_minor": 4,
  "nbformat": 4,
  "cells": [
    {
      "cell_type": "code",
      "source": "import numpy as np\nimport random\nimport time\n\n\n\n",
      "metadata": {
        "trusted": true
      },
      "execution_count": 2,
      "outputs": []
    },
    {
      "cell_type": "code",
      "source": "def CrMatrix(n):\n    return [[random.randint(0,100) for i in range(n)] for j in range(n)]",
      "metadata": {
        "trusted": true
      },
      "execution_count": 11,
      "outputs": []
    },
    {
      "cell_type": "code",
      "source": "def ZMatrix(n):\n    return np.zeros((n,n))",
      "metadata": {
        "trusted": true
      },
      "execution_count": 12,
      "outputs": []
    },
    {
      "cell_type": "code",
      "source": "def MMatrix(A,A1,Z,n):\n    for i in range(n):\n        for j in range(n):\n            for k in range(n):\n                Z[i][j] += A[i][k] * A1[k][j]\n    return Z",
      "metadata": {
        "trusted": true
      },
      "execution_count": 13,
      "outputs": []
    },
    {
      "cell_type": "code",
      "source": "def NumPyMulMatrix(A,A1,Z):\n    Z = np.dot(A,A1)\n    return Z",
      "metadata": {
        "trusted": true
      },
      "execution_count": 14,
      "outputs": []
    },
    {
      "cell_type": "code",
      "source": "n = 100 #dim\nA = CrMatrix(n)\nA1 = CrMatrix(n)\n\nZ1 = ZMatrix(n)\nZ2 = ZMatrix(n)\n\nZ1_start_time = time.time()\nMMatrix(A,A1,Z1,n)\nprint(\" MulMatrix: %s s.\" % (time.time() - Z1_start_time))\n\nZ2_start_time = time.time()\nNumPyMulMatrix(A,A1,Z2)\nprint(\" NumPyMulM: %s s.\" % (time.time() - Z2_start_time))",
      "metadata": {
        "trusted": true
      },
      "execution_count": 15,
      "outputs": [
        {
          "name": "stdout",
          "text": " MulMatrix: 3.5429999828338623 s.\n NumPyMulM: 0.01100015640258789 s.\n",
          "output_type": "stream"
        }
      ]
    },
    {
      "cell_type": "code",
      "source": "",
      "metadata": {},
      "execution_count": null,
      "outputs": []
    }
  ]
}